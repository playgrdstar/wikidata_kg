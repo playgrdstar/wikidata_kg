{
 "metadata": {
  "language_info": {
   "codemirror_mode": {
    "name": "ipython",
    "version": 3
   },
   "file_extension": ".py",
   "mimetype": "text/x-python",
   "name": "python",
   "nbconvert_exporter": "python",
   "pygments_lexer": "ipython3",
   "version": "3.8.5"
  },
  "orig_nbformat": 2,
  "kernelspec": {
   "name": "python3",
   "display_name": "Python 3.8.5 64-bit ('pytorch': conda)"
  },
  "interpreter": {
   "hash": "e03279686b3b8d4d34db62935c6ffaabb3e0b5b1fa0c9a858b6ef076aaf4b9ef"
  }
 },
 "nbformat": 4,
 "nbformat_minor": 2,
 "cells": [
  {
   "cell_type": "code",
   "execution_count": 1,
   "metadata": {},
   "outputs": [],
   "source": [
    "import time\n",
    "from pathlib import Path\n",
    "import pandas as pd"
   ]
  },
  {
   "cell_type": "code",
   "execution_count": 2,
   "metadata": {},
   "outputs": [],
   "source": [
    "data_dir = Path('F:/')/'Research'/'Datasets'/'Wikidata'"
   ]
  },
  {
   "cell_type": "code",
   "execution_count": 3,
   "metadata": {},
   "outputs": [],
   "source": [
    "nasdaq_tickers = pd.read_csv(data_dir/'NASDAQ_wiki.csv', names=['ticker', 'wikidataid'])\n",
    "nyse_tickers = pd.read_csv(data_dir/'NYSE_wiki.csv', names=['ticker', 'wikidataid'])"
   ]
  },
  {
   "cell_type": "code",
   "execution_count": 4,
   "metadata": {},
   "outputs": [],
   "source": [
    "sel_tickers = nyse_tickers"
   ]
  },
  {
   "cell_type": "code",
   "execution_count": 5,
   "metadata": {},
   "outputs": [],
   "source": [
    "# filename = 'full_company_relationships_triplets_Apr2015_keydata' + '.h5'\n",
    "# filename = 'full_company_relationships_triplets_keydata_wikidata-20160104-all' + '.h5'\n",
    "# filename = 'full_company_relationships_triplets_keydata_wikidata-20170102-all' + '.h5'\n",
    "# filename = 'full_company_relationships_triplets_keydata_wikidata-20180115-all' + '.h5'\n",
    "# filename = 'full_company_relationships_triplets_keydata_wikidata-20190107-all' + '.h5'\n",
    "filename = 'full_company_relationships_triplets_keydata_wikidata-20201130-all' + '.h5'\n",
    "# filename = 'full_company_relationships_triplets_Jun2021_keydata' + '.h5'\n",
    "company_triplets = pd.read_hdf(data_dir/filename, key='data')"
   ]
  },
  {
   "cell_type": "code",
   "execution_count": 6,
   "metadata": {},
   "outputs": [
    {
     "output_type": "execute_result",
     "data": {
      "text/plain": [
       "14334"
      ]
     },
     "metadata": {},
     "execution_count": 6
    }
   ],
   "source": [
    "len(company_triplets)"
   ]
  },
  {
   "cell_type": "code",
   "execution_count": 7,
   "metadata": {},
   "outputs": [],
   "source": [
    "property_df = pd.read_hdf(data_dir/'all_wikidata_properties_keydata.h5', key='data')"
   ]
  },
  {
   "cell_type": "code",
   "execution_count": 8,
   "metadata": {},
   "outputs": [],
   "source": [
    "company_triplets = pd.merge(company_triplets, property_df, how='left', left_on='relationship', right_on='property')"
   ]
  },
  {
   "cell_type": "code",
   "execution_count": 9,
   "metadata": {},
   "outputs": [],
   "source": [
    "# filter out 1st order relationships\n",
    "# company_triplets[(company_triplets.relationship=='P127') & (company_triplets.mkt=='NYSE') & (company_triplets.target.isin(nyse_tickers.wikidataid))].head()"
   ]
  },
  {
   "cell_type": "code",
   "execution_count": 10,
   "metadata": {},
   "outputs": [],
   "source": [
    "all_relations = pd.read_csv(data_dir/'selected_wiki_connections.csv', sep=' ', names=['relation', 'count'])"
   ]
  },
  {
   "cell_type": "code",
   "execution_count": 11,
   "metadata": {},
   "outputs": [
    {
     "output_type": "execute_result",
     "data": {
      "text/plain": [
       "57"
      ]
     },
     "metadata": {},
     "execution_count": 11
    }
   ],
   "source": [
    "len(all_relations)"
   ]
  },
  {
   "cell_type": "code",
   "execution_count": 12,
   "metadata": {},
   "outputs": [
    {
     "output_type": "stream",
     "name": "stdout",
     "text": [
      "Doubles - 0: P361_P361, length 38934\n",
      "Doubles - 1: P452_P452, length 7978\n",
      "Doubles - 2: P127_P127, length 2222\n",
      "Single - 3: P355, length 6\n",
      "Single - 4: P155, length 4\n",
      "Doubles - 5: P355_P355, length 6\n",
      "Doubles - 6: P355_P199, length 0\n",
      "Doubles - 7: P112_P112, length 10\n",
      "Doubles - 8: P112_P127, length 1\n",
      "Doubles - 9: P112_P169, length 0\n",
      "Doubles - 10: P169_P112, length 0\n",
      "Doubles - 11: P169_P127, length 0\n",
      "Doubles - 12: P169_P169, length 0\n",
      "Doubles - 13: P127_P112, length 1\n",
      "Doubles - 14: P127_P169, length 0\n",
      "Doubles - 15: P31_P366, length 0\n",
      "Doubles - 16: P127_P3320, length 0\n",
      "Doubles - 17: P463_P463, length 1716\n",
      "Doubles - 18: P1056_P306, length 0\n",
      "Doubles - 19: P1056_P1056, length 1158\n",
      "Doubles - 20: P1056_P452, length 288\n",
      "Doubles - 21: P31_P452, length 227\n",
      "Single - 22: P127, length 2222\n",
      "Single - 23: P156, length 2\n",
      "Single - 24: P749, length 0\n",
      "Doubles - 25: P199_P355, length 0\n",
      "Doubles - 26: P452_P2770, length 0\n",
      "Doubles - 27: P1344_P1344, length 2\n",
      "Doubles - 28: P169_P3320, length 3\n",
      "Doubles - 29: P452_P31, length 227\n",
      "Doubles - 30: P452_P1056, length 288\n",
      "Doubles - 31: P306_P1056, length 0\n",
      "Doubles - 32: P121_P121, length 82\n",
      "Doubles - 33: P31_P1056, length 15\n",
      "Doubles - 34: P166_P166, length 1688\n",
      "Doubles - 35: P2770_P452, length 0\n",
      "Doubles - 36: P366_P31, length 0\n",
      "Doubles - 37: P1056_P31, length 15\n",
      "Doubles - 38: P400_P1056, length 0\n",
      "Doubles - 39: P3320_P127, length 0\n",
      "Doubles - 40: P3320_P169, length 3\n",
      "Doubles - 41: P1056_P400, length 0\n",
      "Doubles - 42: P114_P114, length 6\n",
      "Doubles - 43: P121_P1056, length 12\n",
      "Doubles - 44: P113_P113, length 10\n",
      "Doubles - 45: P127_P749, length 4\n",
      "Doubles - 46: P127_P355, length 36\n",
      "Doubles - 47: P749_P127, length 4\n",
      "Doubles - 48: P1830_P127, length 32\n",
      "Doubles - 49: P1830_P749, length 1\n",
      "Doubles - 50: P355_P127, length 36\n",
      "Doubles - 51: P155_P355, length 3\n",
      "Doubles - 52: P155_P155, length 4\n",
      "Doubles - 53: P355_P155, length 3\n",
      "Doubles - 54: P127_P1830, length 32\n",
      "Doubles - 55: P749_P1830, length 1\n",
      "Doubles - 56: P1056_P121, length 12\n"
     ]
    }
   ],
   "source": [
    "market = 'NYSE'\n",
    "consolidated_relations = pd.DataFrame()\n",
    "for i in range(len(all_relations)):\n",
    "    relation = all_relations.relation[i]\n",
    "    if len(relation.split('_'))>1:\n",
    "        df_left = company_triplets[(company_triplets.relationship==relation.split('_')[0]) & (company_triplets.mkt==market)][['source', 'relationship', 'target']]\n",
    "\n",
    "        df_right = company_triplets[(company_triplets.relationship==relation.split('_')[-1]) & (company_triplets.mkt==market)][['source', 'relationship', 'target']]\n",
    "        \n",
    "        composite = pd.merge(df_left, df_right, on='target')[['source_x', 'source_y']]\n",
    "        composite['relation'] = relation\n",
    "        composite = composite[composite.source_x != composite.source_y]\n",
    "        composite.columns = ['source', 'target', 'relation']\n",
    "        if len(composite) > 0:\n",
    "            label_left =  company_triplets[(company_triplets.relationship==relation.split('_')[0]) & (company_triplets.mkt==market)].label.values[0]\n",
    "            label_right =  company_triplets[(company_triplets.relationship==relation.split('_')[-1]) & (company_triplets.mkt==market)].label.values[0]\n",
    "            # print(f'Doubles - {i}: {label_left}-{label_right}')\n",
    "            composite['relationname'] = f'{label_left}-{label_right}'\n",
    "        print(f'Doubles - {i}: {relation}, length {len(composite)}')\n",
    "        consolidated_relations = pd.concat([consolidated_relations, composite], axis=0)\n",
    "    else:\n",
    "        df_left = company_triplets[(company_triplets.relationship==relation.split('_')[0]) & (company_triplets.mkt==market)][['source', 'relationship', 'target']]\n",
    "        df_right = company_triplets[(company_triplets.relationship==relation.split('_')[0]) & (company_triplets.mkt==market)][['source', 'relationship', 'target']]\n",
    "        composite = pd.merge(df_left, df_right, on='target')[['source_x', 'source_y']]\n",
    "        composite['relation'] = relation\n",
    "        composite = composite[composite.source_x != composite.source_y]\n",
    "        composite.columns = ['source', 'target', 'relation']\n",
    "        if len(composite) > 0:\n",
    "            label =  company_triplets[(company_triplets.relationship==relation.split('_')[0]) & (company_triplets.mkt==market)].label.values[0]\n",
    "            # print(f'Doubles - {i}: {label_left}-{label_right}')\n",
    "            composite['relationname'] = f'{label}'\n",
    "        print(f'Single - {i}: {relation}, length {len(composite)}')\n",
    "        consolidated_relations = pd.concat([consolidated_relations, composite], axis=0)\n",
    "\n",
    "consolidated_relations = consolidated_relations.reset_index(drop=True)"
   ]
  },
  {
   "cell_type": "code",
   "execution_count": 13,
   "metadata": {},
   "outputs": [
    {
     "output_type": "execute_result",
     "data": {
      "text/plain": [
       "array(['part of-part of', 'industry-industry', 'owned by-owned by',\n",
       "       'subsidiary', 'follows', 'subsidiary-subsidiary',\n",
       "       'founded by-founded by', 'founded by-owned by',\n",
       "       'owned by-founded by', 'member of-member of',\n",
       "       'product or material produced-product or material produced',\n",
       "       'product or material produced-industry', 'instance of-industry',\n",
       "       'owned by', 'followed by', 'participant in-participant in',\n",
       "       'chief executive officer-board member', 'industry-instance of',\n",
       "       'industry-product or material produced',\n",
       "       'item operated-item operated',\n",
       "       'instance of-product or material produced',\n",
       "       'award received-award received',\n",
       "       'product or material produced-instance of',\n",
       "       'board member-chief executive officer',\n",
       "       'airline alliance-airline alliance',\n",
       "       'item operated-product or material produced',\n",
       "       'airline hub-airline hub', 'owned by-parent organization',\n",
       "       'owned by-subsidiary', 'parent organization-owned by',\n",
       "       'owner of-owned by', 'owner of-parent organization',\n",
       "       'subsidiary-owned by', 'follows-subsidiary', 'follows-follows',\n",
       "       'subsidiary-follows', 'owned by-owner of',\n",
       "       'parent organization-owner of',\n",
       "       'product or material produced-item operated'], dtype=object)"
      ]
     },
     "metadata": {},
     "execution_count": 13
    }
   ],
   "source": [
    "consolidated_relations.relationname.unique()"
   ]
  },
  {
   "cell_type": "code",
   "execution_count": 14,
   "metadata": {},
   "outputs": [
    {
     "output_type": "execute_result",
     "data": {
      "text/plain": [
       "3954"
      ]
     },
     "metadata": {},
     "execution_count": 14
    }
   ],
   "source": [
    "consolidated_relations.duplicated().sum()"
   ]
  },
  {
   "cell_type": "code",
   "execution_count": 15,
   "metadata": {},
   "outputs": [
    {
     "output_type": "execute_result",
     "data": {
      "text/plain": [
       "       source   target    relation                                relationname\n",
       "0      Q35476  Q212235   P361_P361                             part of-part of\n",
       "1      Q35476  Q483551   P361_P361                             part of-part of\n",
       "2      Q35476  Q533415   P361_P361                             part of-part of\n",
       "3      Q35476  Q675585   P361_P361                             part of-part of\n",
       "4      Q35476  Q905806   P361_P361                             part of-part of\n",
       "...       ...      ...         ...                                         ...\n",
       "57289     Q66  Q174769  P1056_P121  product or material produced-item operated\n",
       "57290     Q66  Q291090  P1056_P121  product or material produced-item operated\n",
       "57291     Q66  Q174769  P1056_P121  product or material produced-item operated\n",
       "57292     Q66  Q188920  P1056_P121  product or material produced-item operated\n",
       "57293     Q66  Q188920  P1056_P121  product or material produced-item operated\n",
       "\n",
       "[57294 rows x 4 columns]"
      ],
      "text/html": "<div>\n<style scoped>\n    .dataframe tbody tr th:only-of-type {\n        vertical-align: middle;\n    }\n\n    .dataframe tbody tr th {\n        vertical-align: top;\n    }\n\n    .dataframe thead th {\n        text-align: right;\n    }\n</style>\n<table border=\"1\" class=\"dataframe\">\n  <thead>\n    <tr style=\"text-align: right;\">\n      <th></th>\n      <th>source</th>\n      <th>target</th>\n      <th>relation</th>\n      <th>relationname</th>\n    </tr>\n  </thead>\n  <tbody>\n    <tr>\n      <th>0</th>\n      <td>Q35476</td>\n      <td>Q212235</td>\n      <td>P361_P361</td>\n      <td>part of-part of</td>\n    </tr>\n    <tr>\n      <th>1</th>\n      <td>Q35476</td>\n      <td>Q483551</td>\n      <td>P361_P361</td>\n      <td>part of-part of</td>\n    </tr>\n    <tr>\n      <th>2</th>\n      <td>Q35476</td>\n      <td>Q533415</td>\n      <td>P361_P361</td>\n      <td>part of-part of</td>\n    </tr>\n    <tr>\n      <th>3</th>\n      <td>Q35476</td>\n      <td>Q675585</td>\n      <td>P361_P361</td>\n      <td>part of-part of</td>\n    </tr>\n    <tr>\n      <th>4</th>\n      <td>Q35476</td>\n      <td>Q905806</td>\n      <td>P361_P361</td>\n      <td>part of-part of</td>\n    </tr>\n    <tr>\n      <th>...</th>\n      <td>...</td>\n      <td>...</td>\n      <td>...</td>\n      <td>...</td>\n    </tr>\n    <tr>\n      <th>57289</th>\n      <td>Q66</td>\n      <td>Q174769</td>\n      <td>P1056_P121</td>\n      <td>product or material produced-item operated</td>\n    </tr>\n    <tr>\n      <th>57290</th>\n      <td>Q66</td>\n      <td>Q291090</td>\n      <td>P1056_P121</td>\n      <td>product or material produced-item operated</td>\n    </tr>\n    <tr>\n      <th>57291</th>\n      <td>Q66</td>\n      <td>Q174769</td>\n      <td>P1056_P121</td>\n      <td>product or material produced-item operated</td>\n    </tr>\n    <tr>\n      <th>57292</th>\n      <td>Q66</td>\n      <td>Q188920</td>\n      <td>P1056_P121</td>\n      <td>product or material produced-item operated</td>\n    </tr>\n    <tr>\n      <th>57293</th>\n      <td>Q66</td>\n      <td>Q188920</td>\n      <td>P1056_P121</td>\n      <td>product or material produced-item operated</td>\n    </tr>\n  </tbody>\n</table>\n<p>57294 rows × 4 columns</p>\n</div>"
     },
     "metadata": {},
     "execution_count": 15
    }
   ],
   "source": [
    "consolidated_relations"
   ]
  },
  {
   "cell_type": "code",
   "execution_count": 16,
   "metadata": {},
   "outputs": [],
   "source": [
    "ticker_lookup = {}\n",
    "ticker_inverse_lookup = {}\n",
    "for i in range(len(sel_tickers)):\n",
    "    ticker_lookup[sel_tickers.ticker[i]] = sel_tickers.wikidataid[i]\n",
    "    ticker_inverse_lookup[sel_tickers.wikidataid[i]] = sel_tickers.ticker[i]"
   ]
  },
  {
   "cell_type": "code",
   "execution_count": 17,
   "metadata": {},
   "outputs": [],
   "source": [
    "consolidated_relations['source_ticker'] = consolidated_relations['source'].map(ticker_inverse_lookup)\n",
    "consolidated_relations['target_ticker'] = consolidated_relations['target'].map(ticker_inverse_lookup)"
   ]
  },
  {
   "cell_type": "code",
   "execution_count": 18,
   "metadata": {},
   "outputs": [
    {
     "output_type": "execute_result",
     "data": {
      "text/plain": [
       "   source   target   relation     relationname source_ticker target_ticker\n",
       "0  Q35476  Q212235  P361_P361  part of-part of             T           AIG\n",
       "1  Q35476  Q483551  P361_P361  part of-part of             T           WMT\n",
       "2  Q35476  Q533415  P361_P361  part of-part of             T           BBY"
      ],
      "text/html": "<div>\n<style scoped>\n    .dataframe tbody tr th:only-of-type {\n        vertical-align: middle;\n    }\n\n    .dataframe tbody tr th {\n        vertical-align: top;\n    }\n\n    .dataframe thead th {\n        text-align: right;\n    }\n</style>\n<table border=\"1\" class=\"dataframe\">\n  <thead>\n    <tr style=\"text-align: right;\">\n      <th></th>\n      <th>source</th>\n      <th>target</th>\n      <th>relation</th>\n      <th>relationname</th>\n      <th>source_ticker</th>\n      <th>target_ticker</th>\n    </tr>\n  </thead>\n  <tbody>\n    <tr>\n      <th>0</th>\n      <td>Q35476</td>\n      <td>Q212235</td>\n      <td>P361_P361</td>\n      <td>part of-part of</td>\n      <td>T</td>\n      <td>AIG</td>\n    </tr>\n    <tr>\n      <th>1</th>\n      <td>Q35476</td>\n      <td>Q483551</td>\n      <td>P361_P361</td>\n      <td>part of-part of</td>\n      <td>T</td>\n      <td>WMT</td>\n    </tr>\n    <tr>\n      <th>2</th>\n      <td>Q35476</td>\n      <td>Q533415</td>\n      <td>P361_P361</td>\n      <td>part of-part of</td>\n      <td>T</td>\n      <td>BBY</td>\n    </tr>\n  </tbody>\n</table>\n</div>"
     },
     "metadata": {},
     "execution_count": 18
    }
   ],
   "source": [
    "consolidated_relations.head(3)"
   ]
  },
  {
   "cell_type": "code",
   "execution_count": 19,
   "metadata": {},
   "outputs": [
    {
     "output_type": "stream",
     "name": "stdout",
     "text": [
      "consolidated_edgelist_NYSE_Nov2020.csv\n"
     ]
    }
   ],
   "source": [
    "date = 'Nov2020'\n",
    "mkt = market\n",
    "filename = 'consolidated_edgelist_' + mkt + '_' + date + '.csv'\n",
    "print(filename)"
   ]
  },
  {
   "cell_type": "code",
   "execution_count": 20,
   "metadata": {},
   "outputs": [],
   "source": [
    "consolidated_relations.to_csv(data_dir/filename, index=False)"
   ]
  },
  {
   "cell_type": "code",
   "execution_count": null,
   "metadata": {},
   "outputs": [],
   "source": []
  }
 ]
}